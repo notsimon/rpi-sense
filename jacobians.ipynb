{
 "cells": [
  {
   "cell_type": "code",
   "execution_count": 2,
   "metadata": {
    "collapsed": false
   },
   "outputs": [],
   "source": [
    "from sympy import * \n",
    "from sympy.printing import print_ccode\n",
    "init_printing(use_latex='mathjax')\n",
    "from IPython.display import display_markdown"
   ]
  },
  {
   "cell_type": "code",
   "execution_count": 3,
   "metadata": {
    "collapsed": true
   },
   "outputs": [],
   "source": [
    "def display_vars(*args):\n",
    "    if isinstance(args[0], str):\n",
    "        args = (args,)\n",
    "    display_markdown(\"$$\" + ',\\;'.join(name + ' = ' + latex(var) for name, var in args) + \"$$\", raw=True)"
   ]
  },
  {
   "cell_type": "code",
   "execution_count": 79,
   "metadata": {
    "collapsed": false
   },
   "outputs": [
    {
     "data": {
      "text/markdown": [
       "$$x = \\left[\\begin{matrix}h\\\\p\\\\T\\\\\\dot{T}\\end{matrix}\\right],\\;\\hat{x} = \\left[\\begin{matrix}h_\\omega\\\\p_\\omega\\\\T_\\omega\\\\\\dot{T}_\\omega\\end{matrix}\\right],\\;\\hat{z} = \\left[\\begin{matrix}p_{m}\\\\T_{m}\\end{matrix}\\right]$$"
      ]
     },
     "metadata": {},
     "output_type": "display_data"
    }
   ],
   "source": [
    "state  = Matrix(symbols('h, p, T, \\dot{T}', real=True))\n",
    "predict = Matrix(symbols('h_\\omega, p_\\omega, T_\\omega, \\dot{T}_\\omega'))\n",
    "predict_measure = Matrix(symbols('p_m, T_m'))\n",
    "\n",
    "display_vars((\"x\", state),\n",
    "             (\"\\hat{x}\", predict),\n",
    "             (\"\\hat{z}\", predict_measure))"
   ]
  },
  {
   "cell_type": "code",
   "execution_count": 80,
   "metadata": {
    "collapsed": true
   },
   "outputs": [],
   "source": [
    "p0, g, m, r = symbols('p_0, g, m, r', real=True)"
   ]
  },
  {
   "cell_type": "code",
   "execution_count": 100,
   "metadata": {
    "collapsed": false,
    "scrolled": false
   },
   "outputs": [
    {
     "data": {
      "text/markdown": [
       "$$f(x) = \\left[\\begin{matrix}h\\\\p_{0} e^{- \\frac{g h m}{T r}}\\\\T + \\Delta t \\dot{T}\\\\\\dot{T}\\end{matrix}\\right],\\;A = \\left[\\begin{matrix}1 & 0 & 0 & 0\\\\- \\frac{g m p_{0}}{T r} e^{- \\frac{g h m}{T r}} & 0 & \\frac{g h m p_{0}}{T^{2} r} e^{- \\frac{g h m}{T r}} & 0\\\\0 & 0 & 1 & \\Delta t\\\\0 & 0 & 0 & 1\\end{matrix}\\right]$$"
      ]
     },
     "metadata": {},
     "output_type": "display_data"
    }
   ],
   "source": [
    "dt = Symbol(\"\\Delta t\", real=True)\n",
    "predict_fun = Matrix([state[0], p0 * exp(-state[0]*g*m/(r*state[2])), state[2] + dt*state[3], state[3]])\n",
    "A = predict_fun.jacobian(state)\n",
    "display_vars((\"f(x)\", predict_fun),\n",
    "             (\"A\", A))"
   ]
  },
  {
   "cell_type": "code",
   "execution_count": 101,
   "metadata": {
    "collapsed": false
   },
   "outputs": [
    {
     "data": {
      "text/markdown": [
       "$$H = \\left[\\begin{matrix}0 & 1 & \\alpha & 0\\\\0 & 0 & 1 & 0\\end{matrix}\\right]$$"
      ]
     },
     "metadata": {},
     "output_type": "display_data"
    }
   ],
   "source": [
    "alpha = symbols('alpha', real=True)\n",
    "predict_measure = Matrix(symbols('\\hat{p}_m, \\hat{t}_m'))\n",
    "measure_fun = Matrix([predict[1] + alpha*predict[2],\n",
    "                      predict[2]])\n",
    "\n",
    "H = measure_fun.jacobian([predict])\n",
    "display_vars(\"H\", H)"
   ]
  },
  {
   "cell_type": "code",
   "execution_count": 102,
   "metadata": {
    "collapsed": false
   },
   "outputs": [
    {
     "name": "stdout",
     "output_type": "stream",
     "text": [
      "out[0] = 1;\n",
      "out[1] = 0;\n",
      "out[2] = 0;\n",
      "out[3] = 0;\n",
      "out[4] = -g*m*p0*exp(-g*h*m/(t*r))/(t*r);\n",
      "out[5] = 0;\n",
      "out[6] = g*h*m*p0*exp(-g*h*m/(t*r))/(pow(t, 2)*r);\n",
      "out[7] = 0;\n",
      "out[8] = 0;\n",
      "out[9] = 0;\n",
      "out[10] = 1;\n",
      "out[11] = dt;\n",
      "out[12] = 0;\n",
      "out[13] = 0;\n",
      "out[14] = 0;\n",
      "out[15] = 1;\n"
     ]
    }
   ],
   "source": [
    "print(ccode(A, MatrixSymbol('out', 4, 4)).replace('\\\\Delta t', 'dt').replace('p_0', 'p0').replace('T', 't'))"
   ]
  },
  {
   "cell_type": "code",
   "execution_count": null,
   "metadata": {
    "collapsed": true
   },
   "outputs": [],
   "source": []
  }
 ],
 "metadata": {
  "kernelspec": {
   "display_name": "Python 3",
   "language": "python",
   "name": "python3"
  },
  "language_info": {
   "codemirror_mode": {
    "name": "ipython",
    "version": 3
   },
   "file_extension": ".py",
   "mimetype": "text/x-python",
   "name": "python",
   "nbconvert_exporter": "python",
   "pygments_lexer": "ipython3",
   "version": "3.5.1"
  }
 },
 "nbformat": 4,
 "nbformat_minor": 0
}
