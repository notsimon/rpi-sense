{
 "cells": [
  {
   "cell_type": "code",
   "execution_count": 2,
   "metadata": {
    "collapsed": false
   },
   "outputs": [],
   "source": [
    "from sympy import * \n",
    "from sympy.printing import print_ccode\n",
    "init_printing(use_latex='mathjax')\n",
    "from IPython.display import display_markdown"
   ]
  },
  {
   "cell_type": "code",
   "execution_count": 3,
   "metadata": {
    "collapsed": true
   },
   "outputs": [],
   "source": [
    "def display_vars(*args):\n",
    "    if isinstance(args[0], str):\n",
    "        args = (args,)\n",
    "    display_markdown(\"$$\" + ',\\;'.join(name + ' = ' + latex(var) for name, var in args) + \"$$\", raw=True)"
   ]
  },
  {
   "cell_type": "code",
   "execution_count": 4,
   "metadata": {
    "collapsed": false
   },
   "outputs": [
    {
     "data": {
      "text/markdown": [
       "$$x = \\left[\\begin{matrix}h\\\\p\\\\t\\\\t_{os}\\end{matrix}\\right],\\;\\hat{x} = \\left[\\begin{matrix}\\hat{h}\\\\\\hat{p}\\\\\\hat{t}\\\\\\hat{t}_{os}\\end{matrix}\\right],\\;\\hat{z} = \\left[\\begin{matrix}\\hat{p}_m\\\\\\hat{t}_m\\end{matrix}\\right]$$"
      ]
     },
     "metadata": {},
     "output_type": "display_data"
    }
   ],
   "source": [
    "state  = Matrix(symbols('h, p, t, t_{os}', real=True))\n",
    "predict = Matrix(symbols('\\hat{h}, \\hat{p}, \\hat{t}, \\hat{t}_{os}'))\n",
    "predict_measure = Matrix(symbols('\\hat{p}_m, \\hat{t}_m'))\n",
    "\n",
    "display_vars((\"x\", state),\n",
    "             (\"\\hat{x}\", predict),\n",
    "             (\"\\hat{z}\", predict_measure))"
   ]
  },
  {
   "cell_type": "code",
   "execution_count": 12,
   "metadata": {
    "collapsed": true
   },
   "outputs": [],
   "source": [
    "p0, g, m, r = symbols('p_0, g, m, r', real=True)"
   ]
  },
  {
   "cell_type": "code",
   "execution_count": 18,
   "metadata": {
    "collapsed": false
   },
   "outputs": [
    {
     "data": {
      "text/markdown": [
       "$$F = e^{A \\Delta t} = \\left[\\begin{matrix}e^{\\Delta t} & 0 & 0 & 0\\\\- \\frac{g m p_{0}}{r t} e^{\\Delta t} e^{- \\frac{g h m}{r t}} + \\frac{g m p_{0}}{r t} e^{- \\frac{g h m}{r t}} & 1 & \\frac{g h m p_{0}}{r t^{2}} e^{\\Delta t} e^{- \\frac{g h m}{r t}} - \\frac{g h m p_{0}}{r t^{2}} e^{- \\frac{g h m}{r t}} & 0\\\\0 & 0 & e^{\\Delta t} & 0\\\\0 & 0 & 0 & e^{\\Delta t}\\end{matrix}\\right]$$"
      ]
     },
     "metadata": {},
     "output_type": "display_data"
    }
   ],
   "source": [
    "predict_fun = Matrix([state[0], p0 * exp(-state[0]*g*m/(r*state[2])), state[2], state[3]])\n",
    "\n",
    "dt = Symbol(\"\\Delta t\", real=True)\n",
    "transition_mat = exp(predict_fun.jacobian([state]) * dt)\n",
    "display_vars(\"F = e^{A \\Delta t}\", transition_mat)"
   ]
  },
  {
   "cell_type": "code",
   "execution_count": 14,
   "metadata": {
    "collapsed": false
   },
   "outputs": [
    {
     "data": {
      "text/markdown": [
       "$$H = \\left[\\begin{matrix}0 & 1 & \\alpha & \\alpha\\\\0 & 0 & 1 & 1\\end{matrix}\\right]$$"
      ]
     },
     "metadata": {},
     "output_type": "display_data"
    }
   ],
   "source": [
    "alpha = symbols('alpha', real=True)\n",
    "predict_measure = Matrix(symbols('\\hat{p}_m, \\hat{t}_m'))\n",
    "measure_fun = Matrix([predict[1] + alpha*(predict[2] + predict[3]),\n",
    "                      predict[2] + predict[3]])\n",
    "\n",
    "observation_mat = measure_fun.jacobian([predict])\n",
    "display_vars(\"H\", observation_mat)"
   ]
  },
  {
   "cell_type": "code",
   "execution_count": 17,
   "metadata": {
    "collapsed": false
   },
   "outputs": [
    {
     "name": "stdout",
     "output_type": "stream",
     "text": [
      "out[0] = exp(dt);\n",
      "out[1] = 0;\n",
      "out[2] = 0;\n",
      "out[3] = 0;\n",
      "out[4] = -g*m*p0*exp(dt)*exp(-g*h*m/(r*t))/(r*t) + g*m*p0*exp(-g*h*m/(r*t))/(r*t);\n",
      "out[5] = 1;\n",
      "out[6] = g*h*m*p0*exp(dt)*exp(-g*h*m/(r*t))/(r*pow(t, 2)) - g*h*m*p0*exp(-g*h*m/(r*t))/(r*pow(t, 2));\n",
      "out[7] = 0;\n",
      "out[8] = 0;\n",
      "out[9] = 0;\n",
      "out[10] = exp(dt);\n",
      "out[11] = 0;\n",
      "out[12] = 0;\n",
      "out[13] = 0;\n",
      "out[14] = 0;\n",
      "out[15] = exp(dt);\n"
     ]
    }
   ],
   "source": [
    "print(ccode(transition_mat, MatrixSymbol('out', 4, 4)).replace('\\\\Delta t', 'dt').replace('p_0', 'p0'))"
   ]
  },
  {
   "cell_type": "code",
   "execution_count": null,
   "metadata": {
    "collapsed": true
   },
   "outputs": [],
   "source": []
  }
 ],
 "metadata": {
  "kernelspec": {
   "display_name": "Python 3",
   "language": "python",
   "name": "python3"
  },
  "language_info": {
   "codemirror_mode": {
    "name": "ipython",
    "version": 3
   },
   "file_extension": ".py",
   "mimetype": "text/x-python",
   "name": "python",
   "nbconvert_exporter": "python",
   "pygments_lexer": "ipython3",
   "version": "3.5.1"
  }
 },
 "nbformat": 4,
 "nbformat_minor": 0
}
